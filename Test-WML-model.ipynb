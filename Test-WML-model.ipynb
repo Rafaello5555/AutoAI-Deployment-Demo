{
    "cells": [
        {
            "cell_type": "code",
            "execution_count": 3,
            "metadata": {
                "tags": []
            },
            "outputs": [],
            "source": "import requests\nimport urllib3, json\n\n\n# Paste your IBM Cloud apikey here\n# Use the rest of the code sample as written\napikey = \"hQE8pcJQN1dnAJpKyy-pOCoB10yavee8jN3Nbu8VG6o5\"\n\n\n# Get an IAM token from IBM Cloud\nurl     = \"https://iam.cloud.ibm.com/identity/token\"\nheaders = { \"Content-Type\" : \"application/x-www-form-urlencoded\" }\ndata    = \"apikey=\" + apikey + \"&grant_type=urn:ibm:params:oauth:grant-type:apikey\"\nresponse  = requests.post( url, headers=headers, data=data )\niam_token = response.json()[\"access_token\"]\nscoring_endpoint = 'https://us-south.ml.cloud.ibm.com/ml/v4/deployments/3bb7a022-383e-447b-a099-3165ee83850d/predictions?version=2021-07-11'\n\n"
        },
        {
            "cell_type": "code",
            "execution_count": 4,
            "metadata": {
                "tags": []
            },
            "outputs": [
                {
                    "name": "stdout",
                    "output_type": "stream",
                    "text": "Scoring response\n{'predictions': [{'fields': ['prediction', 'probability'], 'values': [[1, [0.9975564555223634, 0.0024435444776366405]]]}]}\n"
                }
            ],
            "source": "# NOTE: generate iam_token and retrieve ml_instance_id based on provided documentation\t\nheader = {'Content-Type': 'application/json', 'Authorization': 'Bearer ' + iam_token}\n\n# NOTE: manually define and pass the array(s) of values to be scored in the next line\npayload_scoring = {\"input_data\": [{\"fields\": [\"Check_Account \", \"Duration\", \"Credit_history\", \"Purpose\", \"Credit amount \", \"Saving_account\", \"Employment\", \"Install_rate\", \"Personal_status\", \"Other_debrotors\", \"Present_residence\", \"Property\", \"Age\", \"Installment_plant\", \"Housing\", \"Num_credits\", \"Job\", \"Num_dependents\", \"Telephone\", \"Foreign\"],\n                           \"values\": [[\"A14\", \"48\", \"A34\", \"A43\", \"3573\", \"A65\", \"A75\", \"4\", \"A93\", \"A101\",\"1\",\"A121\",\"47\",\"A143\",\"A152\",\"1\",\"A173\",\"1\",\"A192\",\"A201\"]]}]}\n                           \nresponse_scoring = requests.post(scoring_endpoint, json=payload_scoring, headers=header)\n\nprint(\"Scoring response\")\nprint(json.loads(response_scoring.text))"
        },
        {
            "cell_type": "code",
            "execution_count": null,
            "metadata": {},
            "outputs": [],
            "source": ""
        }
    ],
    "metadata": {
        "kernelspec": {
            "display_name": "Python 3.7",
            "language": "python",
            "name": "python3"
        },
        "language_info": {
            "codemirror_mode": {
                "name": "ipython",
                "version": 3
            },
            "file_extension": ".py",
            "mimetype": "text/x-python",
            "name": "python",
            "nbconvert_exporter": "python",
            "pygments_lexer": "ipython3",
            "version": "3.7.10"
        }
    },
    "nbformat": 4,
    "nbformat_minor": 1
}